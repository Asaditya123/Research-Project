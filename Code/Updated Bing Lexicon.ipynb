{
 "cells": [
  {
   "cell_type": "markdown",
   "id": "78fd3e03",
   "metadata": {},
   "source": [
    "# Updated Bing Lexicon"
   ]
  },
  {
   "cell_type": "markdown",
   "id": "bee763a2",
   "metadata": {},
   "source": [
    "## Libraries"
   ]
  },
  {
   "cell_type": "code",
   "execution_count": 1,
   "id": "8910689c",
   "metadata": {},
   "outputs": [],
   "source": [
    "import pandas as pd\n",
    "import numpy as np\n",
    "import csv\n",
    "import sys\n",
    "import os\n",
    "import glob\n",
    "import nltk\n",
    "import numpy as np\n",
    "import matplotlib.pylab as plt\n",
    "import seaborn as sns\n",
    "import matplotlib.pyplot as plt\n",
    "from wordcloud import WordCloud \n",
    "from vaderSentiment.vaderSentiment import SentimentIntensityAnalyzer\n",
    "from IPython.display import Image\n",
    "from sklearn.metrics import confusion_matrix\n",
    "from sklearn.metrics import classification_report\n"
   ]
  },
  {
   "cell_type": "markdown",
   "id": "00ffc22c",
   "metadata": {},
   "source": [
    "## Import and Appending Dataset in a Single Dataframe"
   ]
  },
  {
   "cell_type": "code",
   "execution_count": 2,
   "id": "764b598e",
   "metadata": {
    "scrolled": true
   },
   "outputs": [
    {
     "data": {
      "text/html": [
       "<div>\n",
       "<style scoped>\n",
       "    .dataframe tbody tr th:only-of-type {\n",
       "        vertical-align: middle;\n",
       "    }\n",
       "\n",
       "    .dataframe tbody tr th {\n",
       "        vertical-align: top;\n",
       "    }\n",
       "\n",
       "    .dataframe thead th {\n",
       "        text-align: right;\n",
       "    }\n",
       "</style>\n",
       "<table border=\"1\" class=\"dataframe\">\n",
       "  <thead>\n",
       "    <tr style=\"text-align: right;\">\n",
       "      <th></th>\n",
       "      <th>pos</th>\n",
       "      <th>neg</th>\n",
       "    </tr>\n",
       "  </thead>\n",
       "  <tbody>\n",
       "    <tr>\n",
       "      <th>0</th>\n",
       "      <td>fucking legend!!</td>\n",
       "      <td>all report tinker\\n</td>\n",
       "    </tr>\n",
       "    <tr>\n",
       "      <th>1</th>\n",
       "      <td>what a pro player</td>\n",
       "      <td>it definitely is gg\\n</td>\n",
       "    </tr>\n",
       "    <tr>\n",
       "      <th>2</th>\n",
       "      <td>GGWP ggwp good game</td>\n",
       "      <td>gggggggggggggggggggggggggggggggggggggggggggg</td>\n",
       "    </tr>\n",
       "    <tr>\n",
       "      <th>3</th>\n",
       "      <td>immortal god</td>\n",
       "      <td>?????????????????????????????</td>\n",
       "    </tr>\n",
       "    <tr>\n",
       "      <th>4</th>\n",
       "      <td>teach me pro</td>\n",
       "      <td>noob noob</td>\n",
       "    </tr>\n",
       "    <tr>\n",
       "      <th>...</th>\n",
       "      <td>...</td>\n",
       "      <td>...</td>\n",
       "    </tr>\n",
       "    <tr>\n",
       "      <th>995</th>\n",
       "      <td>wow ! what a movie . \\nit's everything a movie...</td>\n",
       "      <td>ez\\n</td>\n",
       "    </tr>\n",
       "    <tr>\n",
       "      <th>996</th>\n",
       "      <td>wow gyro got aghas\\n</td>\n",
       "      <td>fucking dogs\\n</td>\n",
       "    </tr>\n",
       "    <tr>\n",
       "      <th>997</th>\n",
       "      <td>Can you guys deni mid tower\\n</td>\n",
       "      <td>What a noob dogh\\n</td>\n",
       "    </tr>\n",
       "    <tr>\n",
       "      <th>998</th>\n",
       "      <td>has gem walked intio bomb \\n</td>\n",
       "      <td>End\\n</td>\n",
       "    </tr>\n",
       "    <tr>\n",
       "      <th>999</th>\n",
       "      <td>copmmend me\\n</td>\n",
       "      <td>retard take lycan for hard \\n</td>\n",
       "    </tr>\n",
       "  </tbody>\n",
       "</table>\n",
       "<p>1000 rows × 2 columns</p>\n",
       "</div>"
      ],
      "text/plain": [
       "                                                   pos  \\\n",
       "0                                     fucking legend!!   \n",
       "1                                    what a pro player   \n",
       "2                                  GGWP ggwp good game   \n",
       "3                                         immortal god   \n",
       "4                                        teach me pro    \n",
       "..                                                 ...   \n",
       "995  wow ! what a movie . \\nit's everything a movie...   \n",
       "996                               wow gyro got aghas\\n   \n",
       "997                      Can you guys deni mid tower\\n   \n",
       "998                       has gem walked intio bomb \\n   \n",
       "999                                      copmmend me\\n   \n",
       "\n",
       "                                              neg  \n",
       "0                             all report tinker\\n  \n",
       "1                           it definitely is gg\\n  \n",
       "2    gggggggggggggggggggggggggggggggggggggggggggg  \n",
       "3                   ?????????????????????????????  \n",
       "4                                       noob noob  \n",
       "..                                            ...  \n",
       "995                                          ez\\n  \n",
       "996                                fucking dogs\\n  \n",
       "997                            What a noob dogh\\n  \n",
       "998                                         End\\n  \n",
       "999                 retard take lycan for hard \\n  \n",
       "\n",
       "[1000 rows x 2 columns]"
      ]
     },
     "execution_count": 2,
     "metadata": {},
     "output_type": "execute_result"
    }
   ],
   "source": [
    "def isNotNull(value):\n",
    "    return value is not None and len(value)>0\n",
    "\n",
    "neg_file = []\n",
    "os.chdir('C:\\\\the\\\\neg')\n",
    "for file in glob.glob('*.txt'):\n",
    "    neg_file.append(file)\n",
    "neg_content = []\n",
    "for i in range(len(neg_file)):\n",
    "    txt = open(neg_file[i])\n",
    "    neg_content.append(txt.read())\n",
    "    \n",
    "pos_file = []\n",
    "os.chdir('C:\\\\the\\\\pos')\n",
    "for file in glob.glob('*.txt'):\n",
    "    pos_file.append(file)\n",
    "pos_content = []\n",
    "for i in range(len(pos_file)):\n",
    "    txt = open(pos_file[i])\n",
    "    pos_content.append(txt.read())\n",
    "    \n",
    "    \n",
    "    \n",
    "Bing_senti = pd.DataFrame()\n",
    "Bing_senti['pos'] = pos_content\n",
    "Bing_senti['neg'] = neg_content\n",
    "Bing_senti.head()\n",
    "Bing_senti"
   ]
  },
  {
   "cell_type": "markdown",
   "id": "1a2847d5",
   "metadata": {},
   "source": [
    "## Importing and appending lexicon dataset"
   ]
  },
  {
   "cell_type": "code",
   "execution_count": 3,
   "id": "9f58f3e4",
   "metadata": {},
   "outputs": [],
   "source": [
    "os.chdir('C:\\\\the')\n",
    "dict_pos = []\n",
    "dict_neg = []\n",
    "f = open('negative-words-updated.txt','r')\n",
    "for line in f:\n",
    "    t= line.strip().lower();\n",
    "    if (isNotNull(t)):\n",
    "        dict_neg.append(t)\n",
    "f.close()\n",
    "\n",
    "f = open('positive-words-updated.txt','r')\n",
    "for line in f:\n",
    "    t = line.strip().lower();\n",
    "    if (isNotNull(t)):\n",
    "        dict_pos.append(t)\n",
    "f.close()"
   ]
  },
  {
   "cell_type": "markdown",
   "id": "6b9c3d7a",
   "metadata": {},
   "source": [
    "## Sentimental Analysis"
   ]
  },
  {
   "cell_type": "markdown",
   "id": "99578263",
   "metadata": {},
   "source": [
    "### Tokenization and Analyzer"
   ]
  },
  {
   "cell_type": "code",
   "execution_count": 4,
   "id": "91cf6844",
   "metadata": {},
   "outputs": [],
   "source": [
    "analysis_for_pos = []\n",
    "for i in range(len(Bing_senti)):\n",
    "    tokens = nltk.word_tokenize(pos_content[i])\n",
    "    neg_cnt = 0\n",
    "    pos_cnt = 0\n",
    "    for neg in dict_neg:\n",
    "        if (neg in tokens):\n",
    "            neg_cnt = neg_cnt +1\n",
    "    for pos in dict_pos:\n",
    "        if (pos in tokens):\n",
    "            pos_cnt = pos_cnt +1\n",
    "    analysis_for_pos.append(pos_cnt - neg_cnt)     \n",
    "Bing_senti['Bing_analysis_for_pos'] = analysis_for_pos\n",
    "\n",
    "\n",
    "analysis_for_neg = []\n",
    "for i in range(len(Bing_senti)):\n",
    "    tokens = nltk.word_tokenize(neg_content[i])\n",
    "    neg_cnt = 0\n",
    "    pos_cnt = 0\n",
    "    for neg in dict_neg:\n",
    "        if (neg in tokens):\n",
    "            neg_cnt = neg_cnt +1\n",
    "    for pos in dict_pos:\n",
    "        if (pos in tokens):\n",
    "            pos_cnt = pos_cnt +1\n",
    "    analysis_for_neg.append(pos_cnt - neg_cnt)     \n",
    "Bing_senti['Bing_analysis_for_neg'] = analysis_for_neg"
   ]
  },
  {
   "cell_type": "code",
   "execution_count": 5,
   "id": "d0a24f31",
   "metadata": {},
   "outputs": [
    {
     "data": {
      "text/html": [
       "<div>\n",
       "<style scoped>\n",
       "    .dataframe tbody tr th:only-of-type {\n",
       "        vertical-align: middle;\n",
       "    }\n",
       "\n",
       "    .dataframe tbody tr th {\n",
       "        vertical-align: top;\n",
       "    }\n",
       "\n",
       "    .dataframe thead th {\n",
       "        text-align: right;\n",
       "    }\n",
       "</style>\n",
       "<table border=\"1\" class=\"dataframe\">\n",
       "  <thead>\n",
       "    <tr style=\"text-align: right;\">\n",
       "      <th></th>\n",
       "      <th>pos</th>\n",
       "      <th>neg</th>\n",
       "      <th>Bing_analysis_for_pos</th>\n",
       "      <th>Bing_analysis_for_neg</th>\n",
       "    </tr>\n",
       "  </thead>\n",
       "  <tbody>\n",
       "    <tr>\n",
       "      <th>0</th>\n",
       "      <td>fucking legend!!</td>\n",
       "      <td>all report tinker\\n</td>\n",
       "      <td>1</td>\n",
       "      <td>-1</td>\n",
       "    </tr>\n",
       "    <tr>\n",
       "      <th>1</th>\n",
       "      <td>what a pro player</td>\n",
       "      <td>it definitely is gg\\n</td>\n",
       "      <td>1</td>\n",
       "      <td>-1</td>\n",
       "    </tr>\n",
       "    <tr>\n",
       "      <th>2</th>\n",
       "      <td>GGWP ggwp good game</td>\n",
       "      <td>gggggggggggggggggggggggggggggggggggggggggggg</td>\n",
       "      <td>2</td>\n",
       "      <td>0</td>\n",
       "    </tr>\n",
       "    <tr>\n",
       "      <th>3</th>\n",
       "      <td>immortal god</td>\n",
       "      <td>?????????????????????????????</td>\n",
       "      <td>0</td>\n",
       "      <td>-1</td>\n",
       "    </tr>\n",
       "    <tr>\n",
       "      <th>4</th>\n",
       "      <td>teach me pro</td>\n",
       "      <td>noob noob</td>\n",
       "      <td>1</td>\n",
       "      <td>-1</td>\n",
       "    </tr>\n",
       "  </tbody>\n",
       "</table>\n",
       "</div>"
      ],
      "text/plain": [
       "                   pos                                           neg  \\\n",
       "0     fucking legend!!                           all report tinker\\n   \n",
       "1    what a pro player                         it definitely is gg\\n   \n",
       "2  GGWP ggwp good game  gggggggggggggggggggggggggggggggggggggggggggg   \n",
       "3         immortal god                 ?????????????????????????????   \n",
       "4        teach me pro                                      noob noob   \n",
       "\n",
       "   Bing_analysis_for_pos  Bing_analysis_for_neg  \n",
       "0                      1                     -1  \n",
       "1                      1                     -1  \n",
       "2                      2                      0  \n",
       "3                      0                     -1  \n",
       "4                      1                     -1  "
      ]
     },
     "execution_count": 5,
     "metadata": {},
     "output_type": "execute_result"
    }
   ],
   "source": [
    "Bing_senti.head()"
   ]
  },
  {
   "cell_type": "markdown",
   "id": "c0267287",
   "metadata": {},
   "source": [
    "## Distribution Graph"
   ]
  },
  {
   "cell_type": "code",
   "execution_count": 6,
   "id": "f46ebadd",
   "metadata": {},
   "outputs": [
    {
     "data": {
      "image/png": "[encoded data removed]",
      "text/plain": [
       "<Figure size 432x288 with 1 Axes>"
      ]
     },
     "metadata": {
      "needs_background": "light"
     },
     "output_type": "display_data"
    }
   ],
   "source": [
    "Bing_senti.Bing_analysis_for_pos.hist(bins = 20,color = 'pink')\n",
    "plt.title('Sentiment Analysis for Positive Reviews Distribution',fontsize = 20)\n",
    "plt.show()"
   ]
  },
  {
   "cell_type": "code",
   "execution_count": 7,
   "id": "875c2c49",
   "metadata": {},
   "outputs": [
    {
     "data": {
      "image/png": "[encoded data removed]",
      "text/plain": [
       "<Figure size 432x288 with 1 Axes>"
      ]
     },
     "metadata": {
      "needs_background": "light"
     },
     "output_type": "display_data"
    }
   ],
   "source": [
    "Bing_senti.Bing_analysis_for_neg.hist(color = 'pink')\n",
    "plt.title('Sentiment Analysis for Negative Reviews Distribution',fontsize = 20)\n",
    "plt.show()"
   ]
  },
  {
   "cell_type": "markdown",
   "id": "7250810b",
   "metadata": {},
   "source": [
    "## Defining Label"
   ]
  },
  {
   "cell_type": "code",
   "execution_count": 8,
   "id": "ff0aa268",
   "metadata": {},
   "outputs": [],
   "source": [
    "neg_analysis_label = []\n",
    "for i in analysis_for_neg:\n",
    "    if i >0:\n",
    "        neg_analysis_label.append(1)\n",
    "    else:\n",
    "        neg_analysis_label.append(0)\n",
    "        \n",
    "pos_analysis_label = []\n",
    "for i in analysis_for_pos:\n",
    "    if i >0:\n",
    "        pos_analysis_label.append(1)\n",
    "    else:\n",
    "        pos_analysis_label.append(0)"
   ]
  },
  {
   "cell_type": "markdown",
   "id": "0b7bb4a0",
   "metadata": {},
   "source": [
    "### Analysis Table"
   ]
  },
  {
   "cell_type": "code",
   "execution_count": 9,
   "id": "54210819",
   "metadata": {},
   "outputs": [
    {
     "data": {
      "text/html": [
       "<div>\n",
       "<style scoped>\n",
       "    .dataframe tbody tr th:only-of-type {\n",
       "        vertical-align: middle;\n",
       "    }\n",
       "\n",
       "    .dataframe tbody tr th {\n",
       "        vertical-align: top;\n",
       "    }\n",
       "\n",
       "    .dataframe thead th {\n",
       "        text-align: right;\n",
       "    }\n",
       "</style>\n",
       "<table border=\"1\" class=\"dataframe\">\n",
       "  <thead>\n",
       "    <tr style=\"text-align: right;\">\n",
       "      <th></th>\n",
       "      <th>pos</th>\n",
       "      <th>neg</th>\n",
       "      <th>Bing_analysis_for_pos</th>\n",
       "      <th>Bing_analysis_for_neg</th>\n",
       "      <th>analysis_label_for_neg</th>\n",
       "      <th>analysis_label_for_pos</th>\n",
       "      <th>label_for_neg</th>\n",
       "      <th>label_for_pos</th>\n",
       "    </tr>\n",
       "  </thead>\n",
       "  <tbody>\n",
       "    <tr>\n",
       "      <th>0</th>\n",
       "      <td>fucking legend!!</td>\n",
       "      <td>all report tinker\\n</td>\n",
       "      <td>1</td>\n",
       "      <td>-1</td>\n",
       "      <td>0</td>\n",
       "      <td>1</td>\n",
       "      <td>0</td>\n",
       "      <td>1</td>\n",
       "    </tr>\n",
       "    <tr>\n",
       "      <th>1</th>\n",
       "      <td>what a pro player</td>\n",
       "      <td>it definitely is gg\\n</td>\n",
       "      <td>1</td>\n",
       "      <td>-1</td>\n",
       "      <td>0</td>\n",
       "      <td>1</td>\n",
       "      <td>0</td>\n",
       "      <td>1</td>\n",
       "    </tr>\n",
       "    <tr>\n",
       "      <th>2</th>\n",
       "      <td>GGWP ggwp good game</td>\n",
       "      <td>gggggggggggggggggggggggggggggggggggggggggggg</td>\n",
       "      <td>2</td>\n",
       "      <td>0</td>\n",
       "      <td>0</td>\n",
       "      <td>1</td>\n",
       "      <td>0</td>\n",
       "      <td>1</td>\n",
       "    </tr>\n",
       "    <tr>\n",
       "      <th>3</th>\n",
       "      <td>immortal god</td>\n",
       "      <td>?????????????????????????????</td>\n",
       "      <td>0</td>\n",
       "      <td>-1</td>\n",
       "      <td>0</td>\n",
       "      <td>0</td>\n",
       "      <td>0</td>\n",
       "      <td>1</td>\n",
       "    </tr>\n",
       "    <tr>\n",
       "      <th>4</th>\n",
       "      <td>teach me pro</td>\n",
       "      <td>noob noob</td>\n",
       "      <td>1</td>\n",
       "      <td>-1</td>\n",
       "      <td>0</td>\n",
       "      <td>1</td>\n",
       "      <td>0</td>\n",
       "      <td>1</td>\n",
       "    </tr>\n",
       "  </tbody>\n",
       "</table>\n",
       "</div>"
      ],
      "text/plain": [
       "                   pos                                           neg  \\\n",
       "0     fucking legend!!                           all report tinker\\n   \n",
       "1    what a pro player                         it definitely is gg\\n   \n",
       "2  GGWP ggwp good game  gggggggggggggggggggggggggggggggggggggggggggg   \n",
       "3         immortal god                 ?????????????????????????????   \n",
       "4        teach me pro                                      noob noob   \n",
       "\n",
       "   Bing_analysis_for_pos  Bing_analysis_for_neg  analysis_label_for_neg  \\\n",
       "0                      1                     -1                       0   \n",
       "1                      1                     -1                       0   \n",
       "2                      2                      0                       0   \n",
       "3                      0                     -1                       0   \n",
       "4                      1                     -1                       0   \n",
       "\n",
       "   analysis_label_for_pos  label_for_neg  label_for_pos  \n",
       "0                       1              0              1  \n",
       "1                       1              0              1  \n",
       "2                       1              0              1  \n",
       "3                       0              0              1  \n",
       "4                       1              0              1  "
      ]
     },
     "execution_count": 9,
     "metadata": {},
     "output_type": "execute_result"
    }
   ],
   "source": [
    "Bing_senti['analysis_label_for_neg'] = neg_analysis_label\n",
    "Bing_senti['analysis_label_for_pos'] = pos_analysis_label\n",
    "Bing_senti['label_for_neg'] = [0]*len(Bing_senti)\n",
    "Bing_senti['label_for_pos'] = [1]*len(Bing_senti)\n",
    "Bing_senti.head()"
   ]
  },
  {
   "cell_type": "code",
   "execution_count": 10,
   "id": "ae79153f",
   "metadata": {},
   "outputs": [],
   "source": [
    "Bing_analysis = Bing_senti.analysis_label_for_neg.tolist() + Bing_senti.analysis_label_for_pos.tolist()\n",
    "True_label = Bing_senti.label_for_neg.tolist() + Bing_senti.label_for_pos.tolist()"
   ]
  },
  {
   "cell_type": "markdown",
   "id": "31ebdf05",
   "metadata": {},
   "source": [
    "### Confusion Matrix"
   ]
  },
  {
   "cell_type": "code",
   "execution_count": 11,
   "id": "1f1d76f9",
   "metadata": {},
   "outputs": [
    {
     "data": {
      "text/plain": [
       "array([[829, 171],\n",
       "       [398, 602]], dtype=int64)"
      ]
     },
     "execution_count": 11,
     "metadata": {},
     "output_type": "execute_result"
    }
   ],
   "source": [
    "confusion_matrix(True_label,Bing_analysis)"
   ]
  },
  {
   "cell_type": "code",
   "execution_count": 12,
   "id": "0ee2c05b",
   "metadata": {},
   "outputs": [
    {
     "data": {
      "text/plain": [
       "<AxesSubplot:>"
      ]
     },
     "execution_count": 12,
     "metadata": {},
     "output_type": "execute_result"
    },
    {
     "data": {
      "image/png": "[encoded data removed]",
      "text/plain": [
       "<Figure size 432x288 with 2 Axes>"
      ]
     },
     "metadata": {
      "needs_background": "light"
     },
     "output_type": "display_data"
    }
   ],
   "source": [
    "cnf_mat = confusion_matrix(True_label,Bing_analysis)\n",
    "np.set_printoptions(precision=2)\n",
    "sns.heatmap(cnf_mat, annot=True, fmt='d', cmap='BuPu')"
   ]
  },
  {
   "cell_type": "markdown",
   "id": "e2872f49",
   "metadata": {},
   "source": [
    "### Evaluation Parameters"
   ]
  },
  {
   "cell_type": "code",
   "execution_count": 13,
   "id": "c7a0b59d",
   "metadata": {},
   "outputs": [
    {
     "data": {
      "text/plain": [
       "'              precision    recall  f1-score   support\\n\\n           0       0.68      0.83      0.74      1000\\n           1       0.78      0.60      0.68      1000\\n\\n    accuracy                           0.72      2000\\n   macro avg       0.73      0.72      0.71      2000\\nweighted avg       0.73      0.72      0.71      2000\\n'"
      ]
     },
     "execution_count": 13,
     "metadata": {},
     "output_type": "execute_result"
    }
   ],
   "source": [
    "classification_report(True_label,Bing_analysis)"
   ]
  }
 ],
 "metadata": {
  "kernelspec": {
   "display_name": "Python 3",
   "language": "python",
   "name": "python3"
  },
  "language_info": {
   "codemirror_mode": {
    "name": "ipython",
    "version": 3
   },
   "file_extension": ".py",
   "mimetype": "text/x-python",
   "name": "python",
   "nbconvert_exporter": "python",
   "pygments_lexer": "ipython3",
   "version": "3.9.5"
  }
 },
 "nbformat": 4,
 "nbformat_minor": 5
}
