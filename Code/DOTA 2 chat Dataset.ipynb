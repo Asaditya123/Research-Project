{
 "cells": [
  {
   "cell_type": "markdown",
   "id": "ba9605e3",
   "metadata": {},
   "source": [
    "# DOTA 2 DATASET"
   ]
  },
  {
   "cell_type": "markdown",
   "id": "6c76011b",
   "metadata": {},
   "source": [
    "## Libraries"
   ]
  },
  {
   "cell_type": "code",
   "execution_count": 1,
   "id": "f256a762",
   "metadata": {},
   "outputs": [],
   "source": [
    "import pandas as pd\n",
    "import numpy as np\n",
    "import csv\n",
    "import sys\n",
    "import os\n",
    "import glob\n",
    "import pandas as pd\n",
    "import nltk\n",
    "import numpy as np\n",
    "import matplotlib.pylab as plt\n",
    "import seaborn as sns\n",
    "import matplotlib.pyplot as plt\n",
    "import pandas as pd\n",
    "from wordcloud import WordCloud \n",
    "from vaderSentiment.vaderSentiment import SentimentIntensityAnalyzer\n",
    "from IPython.display import Image\n",
    "from sklearn.metrics import confusion_matrix\n",
    "from sklearn.metrics import classification_report"
   ]
  },
  {
   "cell_type": "markdown",
   "id": "9636770c",
   "metadata": {},
   "source": [
    "## Import Dataset"
   ]
  },
  {
   "cell_type": "code",
   "execution_count": 2,
   "id": "af383ea9",
   "metadata": {
    "scrolled": true
   },
   "outputs": [
    {
     "name": "stdout",
     "output_type": "stream",
     "text": [
      "           match        time  slot            text\n",
      "0              0  1005.12122     9       ладно гг \n",
      "1              0  1005.85442     9             изи\n",
      "2              0  1008.65372     9              од\n",
      "3              0  1010.51992     9          ебаный\n",
      "4              0  1013.91912     9  мусор на войде\n",
      "...          ...         ...   ...             ...\n",
      "21659443  999999   584.41162     2               ?\n",
      "21659444  999999   974.04976     0      sec please\n",
      "21659445  999999  1708.53706     5               ?\n",
      "21659446  999999  2674.38856     3        ggwp lol\n",
      "21659447  999999  2831.95866     9              ez\n",
      "\n",
      "[21659448 rows x 4 columns]\n"
     ]
    }
   ],
   "source": [
    "dfx = pd.read_csv ('dota2_chat_messages.csv')\n",
    "print (dfx)"
   ]
  },
  {
   "cell_type": "markdown",
   "id": "3d82f7c4",
   "metadata": {},
   "source": [
    "## Data Pre-processing"
   ]
  },
  {
   "cell_type": "markdown",
   "id": "2bd63d7a",
   "metadata": {},
   "source": [
    "### Dropping unnecessary columns"
   ]
  },
  {
   "cell_type": "code",
   "execution_count": 3,
   "id": "aea4b28a",
   "metadata": {},
   "outputs": [
    {
     "data": {
      "text/html": [
       "<div>\n",
       "<style scoped>\n",
       "    .dataframe tbody tr th:only-of-type {\n",
       "        vertical-align: middle;\n",
       "    }\n",
       "\n",
       "    .dataframe tbody tr th {\n",
       "        vertical-align: top;\n",
       "    }\n",
       "\n",
       "    .dataframe thead th {\n",
       "        text-align: right;\n",
       "    }\n",
       "</style>\n",
       "<table border=\"1\" class=\"dataframe\">\n",
       "  <thead>\n",
       "    <tr style=\"text-align: right;\">\n",
       "      <th></th>\n",
       "      <th>text</th>\n",
       "    </tr>\n",
       "  </thead>\n",
       "  <tbody>\n",
       "    <tr>\n",
       "      <th>0</th>\n",
       "      <td>ладно гг</td>\n",
       "    </tr>\n",
       "    <tr>\n",
       "      <th>1</th>\n",
       "      <td>изи</td>\n",
       "    </tr>\n",
       "    <tr>\n",
       "      <th>2</th>\n",
       "      <td>од</td>\n",
       "    </tr>\n",
       "    <tr>\n",
       "      <th>3</th>\n",
       "      <td>ебаный</td>\n",
       "    </tr>\n",
       "    <tr>\n",
       "      <th>4</th>\n",
       "      <td>мусор на войде</td>\n",
       "    </tr>\n",
       "    <tr>\n",
       "      <th>...</th>\n",
       "      <td>...</td>\n",
       "    </tr>\n",
       "    <tr>\n",
       "      <th>21659443</th>\n",
       "      <td>?</td>\n",
       "    </tr>\n",
       "    <tr>\n",
       "      <th>21659444</th>\n",
       "      <td>sec please</td>\n",
       "    </tr>\n",
       "    <tr>\n",
       "      <th>21659445</th>\n",
       "      <td>?</td>\n",
       "    </tr>\n",
       "    <tr>\n",
       "      <th>21659446</th>\n",
       "      <td>ggwp lol</td>\n",
       "    </tr>\n",
       "    <tr>\n",
       "      <th>21659447</th>\n",
       "      <td>ez</td>\n",
       "    </tr>\n",
       "  </tbody>\n",
       "</table>\n",
       "<p>21659448 rows × 1 columns</p>\n",
       "</div>"
      ],
      "text/plain": [
       "                    text\n",
       "0              ладно гг \n",
       "1                    изи\n",
       "2                     од\n",
       "3                 ебаный\n",
       "4         мусор на войде\n",
       "...                  ...\n",
       "21659443               ?\n",
       "21659444      sec please\n",
       "21659445               ?\n",
       "21659446        ggwp lol\n",
       "21659447              ez\n",
       "\n",
       "[21659448 rows x 1 columns]"
      ]
     },
     "execution_count": 3,
     "metadata": {},
     "output_type": "execute_result"
    }
   ],
   "source": [
    "df1 = dfx\n",
    "df1 = df1.drop(columns=['match','slot','time'])\n",
    "df1"
   ]
  },
  {
   "cell_type": "markdown",
   "id": "effef0ad",
   "metadata": {},
   "source": [
    "### Removing non-English rows"
   ]
  },
  {
   "cell_type": "code",
   "execution_count": 4,
   "id": "cdb0bfb3",
   "metadata": {},
   "outputs": [
    {
     "data": {
      "text/html": [
       "<div>\n",
       "<style scoped>\n",
       "    .dataframe tbody tr th:only-of-type {\n",
       "        vertical-align: middle;\n",
       "    }\n",
       "\n",
       "    .dataframe tbody tr th {\n",
       "        vertical-align: top;\n",
       "    }\n",
       "\n",
       "    .dataframe thead th {\n",
       "        text-align: right;\n",
       "    }\n",
       "</style>\n",
       "<table border=\"1\" class=\"dataframe\">\n",
       "  <thead>\n",
       "    <tr style=\"text-align: right;\">\n",
       "      <th></th>\n",
       "      <th>text</th>\n",
       "    </tr>\n",
       "  </thead>\n",
       "  <tbody>\n",
       "    <tr>\n",
       "      <th>0</th>\n",
       "      <td>NaN</td>\n",
       "    </tr>\n",
       "    <tr>\n",
       "      <th>1</th>\n",
       "      <td>NaN</td>\n",
       "    </tr>\n",
       "    <tr>\n",
       "      <th>2</th>\n",
       "      <td>NaN</td>\n",
       "    </tr>\n",
       "    <tr>\n",
       "      <th>3</th>\n",
       "      <td>NaN</td>\n",
       "    </tr>\n",
       "    <tr>\n",
       "      <th>4</th>\n",
       "      <td>NaN</td>\n",
       "    </tr>\n",
       "    <tr>\n",
       "      <th>...</th>\n",
       "      <td>...</td>\n",
       "    </tr>\n",
       "    <tr>\n",
       "      <th>21659443</th>\n",
       "      <td>?</td>\n",
       "    </tr>\n",
       "    <tr>\n",
       "      <th>21659444</th>\n",
       "      <td>sec please</td>\n",
       "    </tr>\n",
       "    <tr>\n",
       "      <th>21659445</th>\n",
       "      <td>?</td>\n",
       "    </tr>\n",
       "    <tr>\n",
       "      <th>21659446</th>\n",
       "      <td>ggwp lol</td>\n",
       "    </tr>\n",
       "    <tr>\n",
       "      <th>21659447</th>\n",
       "      <td>ez</td>\n",
       "    </tr>\n",
       "  </tbody>\n",
       "</table>\n",
       "<p>21659448 rows × 1 columns</p>\n",
       "</div>"
      ],
      "text/plain": [
       "                text\n",
       "0                NaN\n",
       "1                NaN\n",
       "2                NaN\n",
       "3                NaN\n",
       "4                NaN\n",
       "...              ...\n",
       "21659443           ?\n",
       "21659444  sec please\n",
       "21659445           ?\n",
       "21659446    ggwp lol\n",
       "21659447          ez\n",
       "\n",
       "[21659448 rows x 1 columns]"
      ]
     },
     "execution_count": 4,
     "metadata": {},
     "output_type": "execute_result"
    }
   ],
   "source": [
    "df1.replace({r'[^\\x00-\\x7F]+':np.nan}, regex=True, inplace=True)\n",
    "df1"
   ]
  },
  {
   "cell_type": "markdown",
   "id": "9db3b71c",
   "metadata": {},
   "source": [
    "### Dropping Null rows"
   ]
  },
  {
   "cell_type": "code",
   "execution_count": 5,
   "id": "dc6a8e33",
   "metadata": {},
   "outputs": [
    {
     "data": {
      "text/html": [
       "<div>\n",
       "<style scoped>\n",
       "    .dataframe tbody tr th:only-of-type {\n",
       "        vertical-align: middle;\n",
       "    }\n",
       "\n",
       "    .dataframe tbody tr th {\n",
       "        vertical-align: top;\n",
       "    }\n",
       "\n",
       "    .dataframe thead th {\n",
       "        text-align: right;\n",
       "    }\n",
       "</style>\n",
       "<table border=\"1\" class=\"dataframe\">\n",
       "  <thead>\n",
       "    <tr style=\"text-align: right;\">\n",
       "      <th></th>\n",
       "      <th>text</th>\n",
       "    </tr>\n",
       "  </thead>\n",
       "  <tbody>\n",
       "    <tr>\n",
       "      <th>8</th>\n",
       "      <td>100%</td>\n",
       "    </tr>\n",
       "    <tr>\n",
       "      <th>9</th>\n",
       "      <td>twitch.tv/rage_channel</td>\n",
       "    </tr>\n",
       "    <tr>\n",
       "      <th>10</th>\n",
       "      <td>https://www.twitch.tv/rage_channel</td>\n",
       "    </tr>\n",
       "    <tr>\n",
       "      <th>18</th>\n",
       "      <td>https://www.twitch.tv/rage_channel</td>\n",
       "    </tr>\n",
       "    <tr>\n",
       "      <th>19</th>\n",
       "      <td>https://www.twitch.tv/rage_channel</td>\n",
       "    </tr>\n",
       "    <tr>\n",
       "      <th>...</th>\n",
       "      <td>...</td>\n",
       "    </tr>\n",
       "    <tr>\n",
       "      <th>21659443</th>\n",
       "      <td>?</td>\n",
       "    </tr>\n",
       "    <tr>\n",
       "      <th>21659444</th>\n",
       "      <td>sec please</td>\n",
       "    </tr>\n",
       "    <tr>\n",
       "      <th>21659445</th>\n",
       "      <td>?</td>\n",
       "    </tr>\n",
       "    <tr>\n",
       "      <th>21659446</th>\n",
       "      <td>ggwp lol</td>\n",
       "    </tr>\n",
       "    <tr>\n",
       "      <th>21659447</th>\n",
       "      <td>ez</td>\n",
       "    </tr>\n",
       "  </tbody>\n",
       "</table>\n",
       "<p>14190691 rows × 1 columns</p>\n",
       "</div>"
      ],
      "text/plain": [
       "                                        text\n",
       "8                                       100%\n",
       "9                     twitch.tv/rage_channel\n",
       "10        https://www.twitch.tv/rage_channel\n",
       "18        https://www.twitch.tv/rage_channel\n",
       "19        https://www.twitch.tv/rage_channel\n",
       "...                                      ...\n",
       "21659443                                   ?\n",
       "21659444                          sec please\n",
       "21659445                                   ?\n",
       "21659446                            ggwp lol\n",
       "21659447                                  ez\n",
       "\n",
       "[14190691 rows x 1 columns]"
      ]
     },
     "execution_count": 5,
     "metadata": {},
     "output_type": "execute_result"
    }
   ],
   "source": [
    "df1 = df1.dropna()\n",
    "df2=df1\n",
    "df2"
   ]
  },
  {
   "cell_type": "markdown",
   "id": "5683bec7",
   "metadata": {},
   "source": [
    "### Dropping non ASCII rows"
   ]
  },
  {
   "cell_type": "code",
   "execution_count": 6,
   "id": "c11b0c9e",
   "metadata": {},
   "outputs": [],
   "source": [
    "df2 = df2[~df2['text'].str.isnumeric()]\n",
    "df2 = df2[~df2['text'].str.isdigit()]"
   ]
  },
  {
   "cell_type": "markdown",
   "id": "56a34026",
   "metadata": {},
   "source": [
    "### Removing URL"
   ]
  },
  {
   "cell_type": "code",
   "execution_count": 7,
   "id": "94ef5551",
   "metadata": {},
   "outputs": [
    {
     "data": {
      "text/html": [
       "<div>\n",
       "<style scoped>\n",
       "    .dataframe tbody tr th:only-of-type {\n",
       "        vertical-align: middle;\n",
       "    }\n",
       "\n",
       "    .dataframe tbody tr th {\n",
       "        vertical-align: top;\n",
       "    }\n",
       "\n",
       "    .dataframe thead th {\n",
       "        text-align: right;\n",
       "    }\n",
       "</style>\n",
       "<table border=\"1\" class=\"dataframe\">\n",
       "  <thead>\n",
       "    <tr style=\"text-align: right;\">\n",
       "      <th></th>\n",
       "      <th>text</th>\n",
       "    </tr>\n",
       "  </thead>\n",
       "  <tbody>\n",
       "    <tr>\n",
       "      <th>23</th>\n",
       "      <td>)))</td>\n",
       "    </tr>\n",
       "    <tr>\n",
       "      <th>24</th>\n",
       "      <td>carry</td>\n",
       "    </tr>\n",
       "    <tr>\n",
       "      <th>25</th>\n",
       "      <td>yes dog</td>\n",
       "    </tr>\n",
       "    <tr>\n",
       "      <th>26</th>\n",
       "      <td>lul</td>\n",
       "    </tr>\n",
       "    <tr>\n",
       "      <th>27</th>\n",
       "      <td>HAHAH</td>\n",
       "    </tr>\n",
       "    <tr>\n",
       "      <th>...</th>\n",
       "      <td>...</td>\n",
       "    </tr>\n",
       "    <tr>\n",
       "      <th>21659443</th>\n",
       "      <td>?</td>\n",
       "    </tr>\n",
       "    <tr>\n",
       "      <th>21659444</th>\n",
       "      <td>sec please</td>\n",
       "    </tr>\n",
       "    <tr>\n",
       "      <th>21659445</th>\n",
       "      <td>?</td>\n",
       "    </tr>\n",
       "    <tr>\n",
       "      <th>21659446</th>\n",
       "      <td>ggwp lol</td>\n",
       "    </tr>\n",
       "    <tr>\n",
       "      <th>21659447</th>\n",
       "      <td>ez</td>\n",
       "    </tr>\n",
       "  </tbody>\n",
       "</table>\n",
       "<p>13365826 rows × 1 columns</p>\n",
       "</div>"
      ],
      "text/plain": [
       "                text\n",
       "23               )))\n",
       "24             carry\n",
       "25           yes dog\n",
       "26               lul\n",
       "27             HAHAH\n",
       "...              ...\n",
       "21659443           ?\n",
       "21659444  sec please\n",
       "21659445           ?\n",
       "21659446    ggwp lol\n",
       "21659447          ez\n",
       "\n",
       "[13365826 rows x 1 columns]"
      ]
     },
     "execution_count": 7,
     "metadata": {},
     "output_type": "execute_result"
    }
   ],
   "source": [
    "df2 = df2[~df2['text'].str.contains('\\d')]\n",
    "df2 = df2[~df2.text.str.contains(\"twitch\")]\n",
    "df2"
   ]
  },
  {
   "cell_type": "markdown",
   "id": "5150ba80",
   "metadata": {},
   "source": [
    "### Reseting Index"
   ]
  },
  {
   "cell_type": "code",
   "execution_count": 8,
   "id": "09dc67d1",
   "metadata": {},
   "outputs": [
    {
     "data": {
      "text/html": [
       "<div>\n",
       "<style scoped>\n",
       "    .dataframe tbody tr th:only-of-type {\n",
       "        vertical-align: middle;\n",
       "    }\n",
       "\n",
       "    .dataframe tbody tr th {\n",
       "        vertical-align: top;\n",
       "    }\n",
       "\n",
       "    .dataframe thead th {\n",
       "        text-align: right;\n",
       "    }\n",
       "</style>\n",
       "<table border=\"1\" class=\"dataframe\">\n",
       "  <thead>\n",
       "    <tr style=\"text-align: right;\">\n",
       "      <th></th>\n",
       "      <th>text</th>\n",
       "    </tr>\n",
       "  </thead>\n",
       "  <tbody>\n",
       "    <tr>\n",
       "      <th>0</th>\n",
       "      <td>)))</td>\n",
       "    </tr>\n",
       "    <tr>\n",
       "      <th>1</th>\n",
       "      <td>carry</td>\n",
       "    </tr>\n",
       "    <tr>\n",
       "      <th>2</th>\n",
       "      <td>yes dog</td>\n",
       "    </tr>\n",
       "    <tr>\n",
       "      <th>3</th>\n",
       "      <td>lul</td>\n",
       "    </tr>\n",
       "    <tr>\n",
       "      <th>4</th>\n",
       "      <td>HAHAH</td>\n",
       "    </tr>\n",
       "    <tr>\n",
       "      <th>...</th>\n",
       "      <td>...</td>\n",
       "    </tr>\n",
       "    <tr>\n",
       "      <th>13365821</th>\n",
       "      <td>?</td>\n",
       "    </tr>\n",
       "    <tr>\n",
       "      <th>13365822</th>\n",
       "      <td>sec please</td>\n",
       "    </tr>\n",
       "    <tr>\n",
       "      <th>13365823</th>\n",
       "      <td>?</td>\n",
       "    </tr>\n",
       "    <tr>\n",
       "      <th>13365824</th>\n",
       "      <td>ggwp lol</td>\n",
       "    </tr>\n",
       "    <tr>\n",
       "      <th>13365825</th>\n",
       "      <td>ez</td>\n",
       "    </tr>\n",
       "  </tbody>\n",
       "</table>\n",
       "<p>13365826 rows × 1 columns</p>\n",
       "</div>"
      ],
      "text/plain": [
       "                text\n",
       "0                )))\n",
       "1              carry\n",
       "2            yes dog\n",
       "3                lul\n",
       "4              HAHAH\n",
       "...              ...\n",
       "13365821           ?\n",
       "13365822  sec please\n",
       "13365823           ?\n",
       "13365824    ggwp lol\n",
       "13365825          ez\n",
       "\n",
       "[13365826 rows x 1 columns]"
      ]
     },
     "execution_count": 8,
     "metadata": {},
     "output_type": "execute_result"
    }
   ],
   "source": [
    "df3 = df2.reset_index(drop=True)\n",
    "df3"
   ]
  },
  {
   "cell_type": "markdown",
   "id": "c8990617",
   "metadata": {},
   "source": [
    "## Exploratory Data Analysis"
   ]
  },
  {
   "cell_type": "markdown",
   "id": "48a42467",
   "metadata": {},
   "source": [
    "### Wordcloud"
   ]
  },
  {
   "cell_type": "code",
   "execution_count": 9,
   "id": "501abd52",
   "metadata": {
    "scrolled": true
   },
   "outputs": [
    {
     "data": {
      "image/png": "[encoded data removed]",
      "text/plain": [
       "<Figure size 432x288 with 1 Axes>"
      ]
     },
     "metadata": {
      "needs_background": "light"
     },
     "output_type": "display_data"
    }
   ],
   "source": [
    "def plot_cloud(wordcloud):\n",
    "    plt.figure(figsize=(40, 30))\n",
    "    plt.imshow(wordcloud) \n",
    "    plt.axis(\"off\");\n",
    "\n",
    "text = df3['text'].values \n",
    "\n",
    "wordcloud = WordCloud().generate(str(text))\n",
    "\n",
    "plt.imshow(wordcloud)\n",
    "plt.axis(\"off\")\n",
    "plt.show()"
   ]
  },
  {
   "cell_type": "markdown",
   "id": "23a7944f",
   "metadata": {},
   "source": [
    "### Most frequent 100 words"
   ]
  },
  {
   "cell_type": "code",
   "execution_count": 10,
   "id": "cbb80220",
   "metadata": {},
   "outputs": [
    {
     "data": {
      "text/plain": [
       "gg      891498\n",
       "?       453902\n",
       "ez      413832\n",
       "lol     292857\n",
       "u       267627\n",
       "         ...  \n",
       "WP       37379\n",
       "pa       37320\n",
       "come     36777\n",
       "gege     36482\n",
       "g        36030\n",
       "Length: 100, dtype: int64"
      ]
     },
     "execution_count": 10,
     "metadata": {},
     "output_type": "execute_result"
    }
   ],
   "source": [
    "count = pd.Series(' '.join(df3.text).split()).value_counts()[:100]\n",
    "count"
   ]
  },
  {
   "cell_type": "markdown",
   "id": "bde3d8db",
   "metadata": {},
   "source": [
    "### Most Frequent words top 5"
   ]
  },
  {
   "cell_type": "code",
   "execution_count": 11,
   "id": "8526087f",
   "metadata": {},
   "outputs": [
    {
     "data": {
      "text/plain": [
       "gg     891498\n",
       "?      453902\n",
       "ez     413832\n",
       "lol    292857\n",
       "u      267627\n",
       "dtype: int64"
      ]
     },
     "execution_count": 11,
     "metadata": {},
     "output_type": "execute_result"
    }
   ],
   "source": [
    "count1 = pd.Series(' '.join(df3.text).split()).value_counts()[:5]\n",
    "count1"
   ]
  },
  {
   "cell_type": "code",
   "execution_count": 12,
   "id": "568f8cae",
   "metadata": {},
   "outputs": [
    {
     "data": {
      "image/png": "[encoded data removed]",
      "text/plain": [
       "<Figure size 432x288 with 1 Axes>"
      ]
     },
     "metadata": {
      "needs_background": "light"
     },
     "output_type": "display_data"
    }
   ],
   "source": [
    "count.plot()\n",
    "plt.show()"
   ]
  },
  {
   "cell_type": "markdown",
   "id": "10415155",
   "metadata": {},
   "source": [
    "## VADER Classifier"
   ]
  },
  {
   "cell_type": "code",
   "execution_count": 13,
   "id": "a9d58d42",
   "metadata": {},
   "outputs": [],
   "source": [
    "analyser = SentimentIntensityAnalyzer()\n",
    "def sentiment_analyzer_scores(sentence):\n",
    "    score = analyser.polarity_scores(sentence)\n",
    "    print(\"{:-<40} {}\".format(sentence, str(score)))"
   ]
  },
  {
   "cell_type": "markdown",
   "id": "0a4c81a4",
   "metadata": {},
   "source": [
    "### Scores for different terms"
   ]
  },
  {
   "cell_type": "code",
   "execution_count": 14,
   "id": "f0a1c459",
   "metadata": {},
   "outputs": [
    {
     "name": "stdout",
     "output_type": "stream",
     "text": [
      "gg-------------------------------------- {'neg': 0.0, 'neu': 0.0, 'pos': 1.0, 'compound': 0.296}\n"
     ]
    }
   ],
   "source": [
    "sentiment_analyzer_scores(\"gg\")"
   ]
  },
  {
   "cell_type": "code",
   "execution_count": 15,
   "id": "1b10ba95",
   "metadata": {},
   "outputs": [
    {
     "name": "stdout",
     "output_type": "stream",
     "text": [
      "?--------------------------------------- {'neg': 0.0, 'neu': 1.0, 'pos': 0.0, 'compound': 0.0}\n"
     ]
    }
   ],
   "source": [
    "sentiment_analyzer_scores(\"?\")"
   ]
  },
  {
   "cell_type": "code",
   "execution_count": 16,
   "id": "f958b28e",
   "metadata": {},
   "outputs": [
    {
     "name": "stdout",
     "output_type": "stream",
     "text": [
      "GGWP------------------------------------ {'neg': 0.0, 'neu': 1.0, 'pos': 0.0, 'compound': 0.0}\n"
     ]
    }
   ],
   "source": [
    "sentiment_analyzer_scores(\"GGWP\")"
   ]
  }
 ],
 "metadata": {
  "kernelspec": {
   "display_name": "Python 3",
   "language": "python",
   "name": "python3"
  },
  "language_info": {
   "codemirror_mode": {
    "name": "ipython",
    "version": 3
   },
   "file_extension": ".py",
   "mimetype": "text/x-python",
   "name": "python",
   "nbconvert_exporter": "python",
   "pygments_lexer": "ipython3",
   "version": "3.9.5"
  }
 },
 "nbformat": 4,
 "nbformat_minor": 5
}
